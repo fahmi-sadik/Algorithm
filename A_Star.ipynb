{
 "cells": [
  {
   "cell_type": "code",
   "execution_count": 99,
   "id": "b172f820",
   "metadata": {},
   "outputs": [],
   "source": [
    "import math\n",
    "from queue import PriorityQueue\n",
    "from types import NoneType\n"
   ]
  },
  {
   "cell_type": "code",
   "execution_count": 100,
   "id": "880bc699",
   "metadata": {},
   "outputs": [],
   "source": [
    "coords = {}\n",
    "adjlist = {} \n",
    "\n",
    "with open('input.txt','r') as f:\n",
    "    V = int(f.readline())\n",
    "    for i in range(V):\n",
    "        strs = f.readline().split()\n",
    "        nid, x, y = strs[0], int(strs[1]), int(strs[2])\n",
    "        coords[nid] = (x, y) \n",
    "        adjlist[nid] = [] \n",
    "\n",
    "    E = int(f.readline())\n",
    "    for i in range(E):\n",
    "        strs = f.readline().split()\n",
    "        n1, n2, c = strs[0], strs[1], int(strs[2])\n",
    "        adjlist[n1].append((n2, c))\n",
    "    start_nid = f.readline().rstrip()\n",
    "    goal_nid = f.readline().rstrip()"
   ]
  },
  {
   "cell_type": "code",
   "execution_count": 101,
   "id": "1a8ad732",
   "metadata": {},
   "outputs": [],
   "source": [
    "def heuristic(node_id, goal_id):\n",
    " \n",
    "    x1, y1 = coords[node_id]\n",
    "    x2, y2 = coords[goal_id]\n",
    "    return math.sqrt((x1 - x2)**2 + (y1 - y2)**2)"
   ]
  },
  {
   "cell_type": "code",
   "execution_count": 102,
   "id": "b4a3705a",
   "metadata": {},
   "outputs": [],
   "source": [
    "class State:\n",
    "    def __init__(self, node_id, parent, g_cost, f_cost):\n",
    "        self.node_id = node_id\n",
    "        self.parent = parent\n",
    "        self.g_cost = g_cost\n",
    "        self.f_cost = f_cost\n",
    "\n",
    "    def __lt__(self, other):\n",
    "        return self.f_cost < other.f_cost"
   ]
  },
  {
   "cell_type": "code",
   "execution_count": 103,
   "id": "e7ae1cfa",
   "metadata": {},
   "outputs": [
    {
     "name": "stdout",
     "output_type": "stream",
     "text": [
      "Solution path: S-A-G\n",
      "Solution cost: 2\n"
     ]
    }
   ],
   "source": [
    "def a_star_search(start_nid, goal_nid):\n",
    "    pq = PriorityQueue()\n",
    "    \n",
    "    g_start = 0\n",
    "    h_start = heuristic(start_nid, goal_nid)\n",
    "    f_start = g_start + h_start\n",
    "    start_state = State(start_nid, None, g_start, f_start)\n",
    "    \n",
    "    pq.put(start_state)\n",
    "    \n",
    "    min_g_costs = {start_nid: g_start}\n",
    "    \n",
    "    while not pq.empty():\n",
    "        current_state = pq.get()\n",
    "\n",
    "        if current_state.node_id == goal_nid:\n",
    "            print_solution(current_state)\n",
    "            return\n",
    "\n",
    "        for neighbor_nid, edge_cost in adjlist.get(current_state.node_id, []):\n",
    "            new_g_cost = current_state.g_cost + edge_cost\n",
    "            \n",
    "            if neighbor_nid not in min_g_costs or new_g_cost < min_g_costs[neighbor_nid]:\n",
    "                min_g_costs[neighbor_nid] = new_g_cost\n",
    "                new_f_cost = new_g_cost + heuristic(neighbor_nid, goal_nid)\n",
    "                new_state = State(neighbor_nid, current_state, new_g_cost, new_f_cost)\n",
    "                pq.put(new_state)\n",
    "    \n",
    "    print(\"No path found.\")\n",
    "\n",
    "def print_solution(goal_state):\n",
    "    path = []\n",
    "    temp = goal_state\n",
    "    while temp:\n",
    "        path.append(temp.node_id)\n",
    "        temp = temp.parent\n",
    "    path.reverse()\n",
    "    print(\"Solution path:\", \"-\".join(path))\n",
    "    print(\"Solution cost:\", goal_state.g_cost)\n",
    "\n",
    "a_star_search(start_nid, goal_nid)"
   ]
  }
 ],
 "metadata": {
  "kernelspec": {
   "display_name": "Python 3",
   "language": "python",
   "name": "python3"
  },
  "language_info": {
   "codemirror_mode": {
    "name": "ipython",
    "version": 3
   },
   "file_extension": ".py",
   "mimetype": "text/x-python",
   "name": "python",
   "nbconvert_exporter": "python",
   "pygments_lexer": "ipython3",
   "version": "3.11.5"
  }
 },
 "nbformat": 4,
 "nbformat_minor": 5
}
